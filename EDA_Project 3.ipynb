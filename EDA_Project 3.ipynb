{
 "cells": [
  {
   "cell_type": "code",
   "execution_count": 1,
   "id": "e69c4ba1-85f3-4a02-ae37-c64347a01803",
   "metadata": {},
   "outputs": [],
   "source": [
    "#Import all relevant libraries\n",
    "import numpy as np\n",
    "import pandas as pd\n",
    "import matplotlib.pyplot as plt\n",
    "import seaborn as sns\n",
    "from scipy.stats import zscore\n",
    "import dtale as dt\n",
    "import sweetviz as sv\n",
    " \n",
    "## This statement allows the visuals to render within your Jupyter Notebook.\n",
    "%matplotlib inline"
   ]
  },
  {
   "cell_type": "markdown",
   "id": "e395e8bf-b530-4720-8d0f-26811e927d6e",
   "metadata": {},
   "source": [
    "## Loading the data\n",
    "We can now load the dataset into pandas using the read_csv() function. This converts the CSV file into a Pandas dataframe."
   ]
  },
  {
   "cell_type": "code",
   "execution_count": 2,
   "id": "cf4030b0-aa7f-4bd7-8e9c-c1b7f4d202d0",
   "metadata": {},
   "outputs": [
    {
     "name": "stderr",
     "output_type": "stream",
     "text": [
      "/var/folders/h2/hjv5g_hx0cj2zdk5d0l8wvbm0000gn/T/ipykernel_8886/1069073163.py:2: DtypeWarning:\n",
      "\n",
      "Columns (16) have mixed types. Specify dtype option on import or set low_memory=False.\n",
      "\n"
     ]
    }
   ],
   "source": [
    "#Read in the csv file and convert to a Pandas dataframe\n",
    "df = pd.read_csv('Data/RiyadhVillasAqar.csv')"
   ]
  },
  {
   "cell_type": "markdown",
   "id": "ca5ed983-0f72-43eb-8168-6fafd48c562e",
   "metadata": {},
   "source": [
    "### Viewing the dataframe\n",
    "We can get a quick sense of the size of our dataset by using the shape method. This returns a tuple with the number of rows and columns in the dataset."
   ]
  },
  {
   "cell_type": "code",
   "execution_count": 3,
   "id": "bfde0b69-613c-4dd1-8ebf-e4d2e570e653",
   "metadata": {},
   "outputs": [
    {
     "data": {
      "text/html": [
       "<div>\n",
       "<style scoped>\n",
       "    .dataframe tbody tr th:only-of-type {\n",
       "        vertical-align: middle;\n",
       "    }\n",
       "\n",
       "    .dataframe tbody tr th {\n",
       "        vertical-align: top;\n",
       "    }\n",
       "\n",
       "    .dataframe thead th {\n",
       "        text-align: right;\n",
       "    }\n",
       "</style>\n",
       "<table border=\"1\" class=\"dataframe\">\n",
       "  <thead>\n",
       "    <tr style=\"text-align: right;\">\n",
       "      <th></th>\n",
       "      <th>Unnamed: 0</th>\n",
       "      <th>front</th>\n",
       "      <th>rooms</th>\n",
       "      <th>lounges</th>\n",
       "      <th>bathrooms</th>\n",
       "      <th>streetWidth</th>\n",
       "      <th>stairs</th>\n",
       "      <th>propertyAge</th>\n",
       "      <th>driverRoom</th>\n",
       "      <th>tent</th>\n",
       "      <th>...</th>\n",
       "      <th>apartments</th>\n",
       "      <th>maidRoom</th>\n",
       "      <th>elevator</th>\n",
       "      <th>furnihsed</th>\n",
       "      <th>pool</th>\n",
       "      <th>basement</th>\n",
       "      <th>neighbourhood</th>\n",
       "      <th>location</th>\n",
       "      <th>price</th>\n",
       "      <th>square price</th>\n",
       "    </tr>\n",
       "  </thead>\n",
       "  <tbody>\n",
       "    <tr>\n",
       "      <th>0</th>\n",
       "      <td>0</td>\n",
       "      <td>شرقية</td>\n",
       "      <td>5</td>\n",
       "      <td>4</td>\n",
       "      <td>5+</td>\n",
       "      <td>20.0</td>\n",
       "      <td>1</td>\n",
       "      <td>0</td>\n",
       "      <td>1</td>\n",
       "      <td>1</td>\n",
       "      <td>...</td>\n",
       "      <td>0</td>\n",
       "      <td>0</td>\n",
       "      <td>0</td>\n",
       "      <td>0</td>\n",
       "      <td>0</td>\n",
       "      <td>0</td>\n",
       "      <td>عكاظ</td>\n",
       "      <td>جنوب الرياض</td>\n",
       "      <td>1050000.0</td>\n",
       "      <td>3500.000000</td>\n",
       "    </tr>\n",
       "    <tr>\n",
       "      <th>1</th>\n",
       "      <td>1</td>\n",
       "      <td>غربية</td>\n",
       "      <td>4</td>\n",
       "      <td>3</td>\n",
       "      <td>5+</td>\n",
       "      <td>20.0</td>\n",
       "      <td>1</td>\n",
       "      <td>0</td>\n",
       "      <td>1</td>\n",
       "      <td>1</td>\n",
       "      <td>...</td>\n",
       "      <td>2</td>\n",
       "      <td>1</td>\n",
       "      <td>1</td>\n",
       "      <td>0</td>\n",
       "      <td>0</td>\n",
       "      <td>0</td>\n",
       "      <td>المهدية</td>\n",
       "      <td>غرب الرياض</td>\n",
       "      <td>3000000.0</td>\n",
       "      <td>5555.555556</td>\n",
       "    </tr>\n",
       "    <tr>\n",
       "      <th>2</th>\n",
       "      <td>2</td>\n",
       "      <td>جنوبية شرقية</td>\n",
       "      <td>7</td>\n",
       "      <td>2</td>\n",
       "      <td>5+</td>\n",
       "      <td>15.0</td>\n",
       "      <td>1</td>\n",
       "      <td>31</td>\n",
       "      <td>1</td>\n",
       "      <td>0</td>\n",
       "      <td>...</td>\n",
       "      <td>0</td>\n",
       "      <td>1</td>\n",
       "      <td>0</td>\n",
       "      <td>0</td>\n",
       "      <td>0</td>\n",
       "      <td>0</td>\n",
       "      <td>الشفا</td>\n",
       "      <td>جنوب الرياض</td>\n",
       "      <td>2000000.0</td>\n",
       "      <td>2285.714286</td>\n",
       "    </tr>\n",
       "    <tr>\n",
       "      <th>3</th>\n",
       "      <td>3</td>\n",
       "      <td>غربية</td>\n",
       "      <td>7</td>\n",
       "      <td>3</td>\n",
       "      <td>5+</td>\n",
       "      <td>15.0</td>\n",
       "      <td>1</td>\n",
       "      <td>3</td>\n",
       "      <td>0</td>\n",
       "      <td>1</td>\n",
       "      <td>...</td>\n",
       "      <td>0</td>\n",
       "      <td>1</td>\n",
       "      <td>0</td>\n",
       "      <td>1</td>\n",
       "      <td>0</td>\n",
       "      <td>0</td>\n",
       "      <td>ظهرة لبن</td>\n",
       "      <td>غرب الرياض</td>\n",
       "      <td>894000.0</td>\n",
       "      <td>4470.000000</td>\n",
       "    </tr>\n",
       "    <tr>\n",
       "      <th>4</th>\n",
       "      <td>4</td>\n",
       "      <td>شمالية</td>\n",
       "      <td>4</td>\n",
       "      <td>2</td>\n",
       "      <td>4</td>\n",
       "      <td>25.0</td>\n",
       "      <td>1</td>\n",
       "      <td>0</td>\n",
       "      <td>1</td>\n",
       "      <td>1</td>\n",
       "      <td>...</td>\n",
       "      <td>3</td>\n",
       "      <td>1</td>\n",
       "      <td>1</td>\n",
       "      <td>1</td>\n",
       "      <td>0</td>\n",
       "      <td>0</td>\n",
       "      <td>قرطبة</td>\n",
       "      <td>شرق الرياض</td>\n",
       "      <td>3500000.0</td>\n",
       "      <td>8750.000000</td>\n",
       "    </tr>\n",
       "  </tbody>\n",
       "</table>\n",
       "<p>5 rows × 26 columns</p>\n",
       "</div>"
      ],
      "text/plain": [
       "   Unnamed: 0         front  rooms lounges bathrooms  streetWidth  stairs  \\\n",
       "0           0         شرقية      5       4        5+         20.0       1   \n",
       "1           1         غربية      4       3        5+         20.0       1   \n",
       "2           2  جنوبية شرقية      7       2        5+         15.0       1   \n",
       "3           3         غربية      7       3        5+         15.0       1   \n",
       "4           4        شمالية      4       2         4         25.0       1   \n",
       "\n",
       "   propertyAge  driverRoom  tent  ...  apartments  maidRoom  elevator  \\\n",
       "0            0           1     1  ...           0         0         0   \n",
       "1            0           1     1  ...           2         1         1   \n",
       "2           31           1     0  ...           0         1         0   \n",
       "3            3           0     1  ...           0         1         0   \n",
       "4            0           1     1  ...           3         1         1   \n",
       "\n",
       "   furnihsed  pool  basement neighbourhood     location      price  \\\n",
       "0          0     0         0         عكاظ   جنوب الرياض  1050000.0   \n",
       "1          0     0         0      المهدية    غرب الرياض  3000000.0   \n",
       "2          0     0         0        الشفا   جنوب الرياض  2000000.0   \n",
       "3          1     0         0     ظهرة لبن    غرب الرياض   894000.0   \n",
       "4          1     0         0        قرطبة    شرق الرياض  3500000.0   \n",
       "\n",
       "   square price  \n",
       "0   3500.000000  \n",
       "1   5555.555556  \n",
       "2   2285.714286  \n",
       "3   4470.000000  \n",
       "4   8750.000000  \n",
       "\n",
       "[5 rows x 26 columns]"
      ]
     },
     "execution_count": 3,
     "metadata": {},
     "output_type": "execute_result"
    }
   ],
   "source": [
    "df.head()"
   ]
  },
  {
   "cell_type": "code",
   "execution_count": 4,
   "id": "906a369e",
   "metadata": {},
   "outputs": [
    {
     "data": {
      "text/html": [
       "\n",
       "        <iframe\n",
       "            width=\"100%\"\n",
       "            height=\"475\"\n",
       "            src=\"http://Suls-MacBook-Pro.local:40000/dtale/iframe/1\"\n",
       "            frameborder=\"0\"\n",
       "            allowfullscreen\n",
       "            \n",
       "        ></iframe>\n",
       "        "
      ],
      "text/plain": [
       "<IPython.lib.display.IFrame at 0x14e1fa490>"
      ]
     },
     "metadata": {},
     "output_type": "display_data"
    },
    {
     "data": {
      "text/plain": []
     },
     "execution_count": 4,
     "metadata": {},
     "output_type": "execute_result"
    }
   ],
   "source": [
    "dt.show(df)"
   ]
  },
  {
   "cell_type": "markdown",
   "id": "bd2b5bc4-db37-4432-b666-0714afd0c4ca",
   "metadata": {},
   "source": [
    "## 1. Data Profiling:\n",
    "Data profiling is a comprehensive process of examining the data available in an existing dataset and collecting statistics and information about that data. "
   ]
  },
  {
   "cell_type": "code",
   "execution_count": 5,
   "id": "672f2081-5a2c-4908-8cbd-29519fb3cac5",
   "metadata": {},
   "outputs": [
    {
     "data": {
      "text/plain": [
       "lounges          1118\n",
       "streetWidth       190\n",
       "square price        2\n",
       "price               2\n",
       "duplex              0\n",
       "location            0\n",
       "neighbourhood       0\n",
       "basement            0\n",
       "pool                0\n",
       "furnihsed           0\n",
       "elevator            0\n",
       "maidRoom            0\n",
       "apartments          0\n",
       "space               0\n",
       "Unnamed: 0          0\n",
       "front               0\n",
       "outdoorRoom         0\n",
       "kitchen             0\n",
       "patio               0\n",
       "tent                0\n",
       "driverRoom          0\n",
       "propertyAge         0\n",
       "stairs              0\n",
       "bathrooms           0\n",
       "rooms               0\n",
       "garage              0\n",
       "dtype: int64"
      ]
     },
     "execution_count": 5,
     "metadata": {},
     "output_type": "execute_result"
    }
   ],
   "source": [
    "df.isnull().sum().sort_values(ascending=False)"
   ]
  },
  {
   "cell_type": "code",
   "execution_count": 6,
   "id": "8ee8498d",
   "metadata": {},
   "outputs": [
    {
     "data": {
      "text/plain": [
       "Unnamed: 0         int64\n",
       "front             object\n",
       "rooms              int64\n",
       "lounges           object\n",
       "bathrooms         object\n",
       "streetWidth      float64\n",
       "stairs             int64\n",
       "propertyAge        int64\n",
       "driverRoom         int64\n",
       "tent               int64\n",
       "patio              int64\n",
       "kitchen            int64\n",
       "outdoorRoom        int64\n",
       "garage             int64\n",
       "duplex             int64\n",
       "space              int64\n",
       "apartments        object\n",
       "maidRoom           int64\n",
       "elevator           int64\n",
       "furnihsed          int64\n",
       "pool               int64\n",
       "basement           int64\n",
       "neighbourhood     object\n",
       "location          object\n",
       "price            float64\n",
       "square price     float64\n",
       "dtype: object"
      ]
     },
     "execution_count": 6,
     "metadata": {},
     "output_type": "execute_result"
    }
   ],
   "source": [
    "df.dtypes"
   ]
  },
  {
   "cell_type": "markdown",
   "id": "834929aa-fd6a-4ec5-84d4-77c4b3c1a506",
   "metadata": {},
   "source": [
    "The process of profiling differs slightly for categorical and numerical variables due to their inherent differences.\n",
    "\n",
    "**The two main types of data are:**\n",
    "- Quantitative (numerical) data\n",
    "- Qualitative (categorical) data"
   ]
  },
  {
   "cell_type": "markdown",
   "id": "3a9954f5-6fbc-45b4-ad86-3e21b6e0ca2d",
   "metadata": {},
   "source": [
    "### Data Quality Checks\n",
    "Data quality checks involve the process of ensuring that the data is accurate, complete, consistent, relevant, and reliable. \n",
    "\n",
    "\n",
    "**Here are typical steps involved in checking data quality:**"
   ]
  },
  {
   "cell_type": "markdown",
   "id": "4818c876-173d-4e56-9e7d-b4334d2def25",
   "metadata": {},
   "source": [
    "#### 1. Reliability:\n",
    "Evaluate the data's source and collection process to determine its trustworthiness."
   ]
  },
  {
   "cell_type": "code",
   "execution_count": 7,
   "id": "9034ae7b-dc1d-4cba-8f9e-bb499d021cde",
   "metadata": {},
   "outputs": [
    {
     "data": {
      "text/plain": [
       "'\\nimported from Kaggle\\nsource: Unknown\\nLicense: Unknown\\n'"
      ]
     },
     "execution_count": 7,
     "metadata": {},
     "output_type": "execute_result"
    }
   ],
   "source": [
    "'''\n",
    "imported from Kaggle\n",
    "source: Unknown\n",
    "License: Unknown\n",
    "'''"
   ]
  },
  {
   "cell_type": "markdown",
   "id": "2ce0cc59-8c92-4acc-8d07-c40764e1a86b",
   "metadata": {},
   "source": [
    "#### 2. Timeliness: \n",
    "Ensure the data is up-to-date and reflective of the current situation or the period of interest for the analysis."
   ]
  },
  {
   "cell_type": "code",
   "execution_count": 8,
   "id": "4b78ae35-7226-4cb6-b8b2-a46c2ed17cf9",
   "metadata": {},
   "outputs": [
    {
     "data": {
      "text/plain": [
       "'Last Update: 2023'"
      ]
     },
     "execution_count": 8,
     "metadata": {},
     "output_type": "execute_result"
    }
   ],
   "source": [
    "'Last Update: 2023'"
   ]
  },
  {
   "cell_type": "markdown",
   "id": "7fab0fe2-6624-4615-b9d8-3c3669056bf8",
   "metadata": {},
   "source": [
    "#### 3. Consistency: \n",
    "\n",
    "Confirm that the data is consistent within the dataset and across multiple data sources. For example, the same data point should not have different values in different places.\n"
   ]
  },
  {
   "cell_type": "code",
   "execution_count": 9,
   "id": "7fecc573-959f-4800-8ddd-a67985c68b18",
   "metadata": {},
   "outputs": [
    {
     "data": {
      "text/plain": [
       "'only one file'"
      ]
     },
     "execution_count": 9,
     "metadata": {},
     "output_type": "execute_result"
    }
   ],
   "source": [
    "'''only one file'''"
   ]
  },
  {
   "cell_type": "markdown",
   "id": "bec3d183-bba0-4b12-b963-487daab1e876",
   "metadata": {},
   "source": [
    "#### 4. Relevance: \n",
    "Assess whether the data is appropriate and applicable for the intended analysis. Data that is not relevant can skew results and lead to incorrect conclusions.\n",
    "\n",
    "**Key considerations for relevance include:**\n",
    "\n",
    "> 1. Sample Appropriateness: Confirm that your data sample aligns with your analysis objectives. For instance, utilizing data from the Northern region will not yield accurate insights for the Western region of the Kingdom.\n",
    ">\n",
    "> 2. Variable Selection: Any column will not be relevant for our analysis, we can get rid of these using the drop() method. We will set the “axis” argument to 1 since we’re dealing with columns, and set the “inplace” argument to True to make the change permanent.\n"
   ]
  },
  {
   "cell_type": "code",
   "execution_count": 10,
   "id": "50a934b7-a0cd-443f-8a27-f10e9a6e8647",
   "metadata": {
    "scrolled": true
   },
   "outputs": [
    {
     "data": {
      "text/plain": [
       "Index(['Unnamed: 0', 'front', 'rooms', 'lounges', 'bathrooms', 'streetWidth',\n",
       "       'stairs', 'propertyAge', 'driverRoom', 'tent', 'patio', 'kitchen',\n",
       "       'outdoorRoom', 'garage', 'duplex', 'space', 'apartments', 'maidRoom',\n",
       "       'elevator', 'furnihsed', 'pool', 'basement', 'neighbourhood',\n",
       "       'location', 'price', 'square price'],\n",
       "      dtype='object')"
      ]
     },
     "execution_count": 10,
     "metadata": {},
     "output_type": "execute_result"
    }
   ],
   "source": [
    "df.columns"
   ]
  },
  {
   "cell_type": "code",
   "execution_count": 11,
   "id": "506708f5",
   "metadata": {},
   "outputs": [
    {
     "data": {
      "text/plain": [
       "(46826, 26)"
      ]
     },
     "execution_count": 11,
     "metadata": {},
     "output_type": "execute_result"
    }
   ],
   "source": [
    "df.shape"
   ]
  },
  {
   "cell_type": "code",
   "execution_count": 110,
   "id": "bbe3fdbd",
   "metadata": {},
   "outputs": [],
   "source": [
    "df.rename(columns={'furnihsed': 'furnished'}, inplace=True)"
   ]
  },
  {
   "cell_type": "code",
   "execution_count": 111,
   "id": "309d12a8",
   "metadata": {},
   "outputs": [
    {
     "data": {
      "text/plain": [
       "Index(['front', 'rooms', 'lounges', 'bathrooms', 'streetWidth', 'stairs',\n",
       "       'propertyAge', 'driverRoom', 'tent', 'patio', 'kitchen', 'outdoorRoom',\n",
       "       'garage', 'duplex', 'space', 'maidRoom', 'elevator', 'furnished',\n",
       "       'pool', 'basement', 'neighbourhood', 'location', 'price',\n",
       "       'square price'],\n",
       "      dtype='object')"
      ]
     },
     "execution_count": 111,
     "metadata": {},
     "output_type": "execute_result"
    }
   ],
   "source": [
    "df.columns"
   ]
  },
  {
   "cell_type": "markdown",
   "id": "0f5e3a2a-bbb7-4d06-8220-c93277b70146",
   "metadata": {},
   "source": [
    "#### 5. Uniqueness: \n",
    "Check for and remove duplicate records to prevent skewed analysis results.\n"
   ]
  },
  {
   "cell_type": "code",
   "execution_count": 13,
   "id": "a509a7aa-58f4-4d39-8eb8-e8298a21f2a7",
   "metadata": {},
   "outputs": [
    {
     "data": {
      "text/html": [
       "<div>\n",
       "<style scoped>\n",
       "    .dataframe tbody tr th:only-of-type {\n",
       "        vertical-align: middle;\n",
       "    }\n",
       "\n",
       "    .dataframe tbody tr th {\n",
       "        vertical-align: top;\n",
       "    }\n",
       "\n",
       "    .dataframe thead th {\n",
       "        text-align: right;\n",
       "    }\n",
       "</style>\n",
       "<table border=\"1\" class=\"dataframe\">\n",
       "  <thead>\n",
       "    <tr style=\"text-align: right;\">\n",
       "      <th></th>\n",
       "      <th>Unnamed: 0</th>\n",
       "      <th>front</th>\n",
       "      <th>rooms</th>\n",
       "      <th>lounges</th>\n",
       "      <th>bathrooms</th>\n",
       "      <th>streetWidth</th>\n",
       "      <th>stairs</th>\n",
       "      <th>propertyAge</th>\n",
       "      <th>driverRoom</th>\n",
       "      <th>tent</th>\n",
       "      <th>...</th>\n",
       "      <th>apartments</th>\n",
       "      <th>maidRoom</th>\n",
       "      <th>elevator</th>\n",
       "      <th>furnihsed</th>\n",
       "      <th>pool</th>\n",
       "      <th>basement</th>\n",
       "      <th>neighbourhood</th>\n",
       "      <th>location</th>\n",
       "      <th>price</th>\n",
       "      <th>square price</th>\n",
       "    </tr>\n",
       "  </thead>\n",
       "  <tbody>\n",
       "  </tbody>\n",
       "</table>\n",
       "<p>0 rows × 26 columns</p>\n",
       "</div>"
      ],
      "text/plain": [
       "Empty DataFrame\n",
       "Columns: [Unnamed: 0, front, rooms, lounges, bathrooms, streetWidth, stairs, propertyAge, driverRoom, tent, patio, kitchen, outdoorRoom, garage, duplex, space, apartments, maidRoom, elevator, furnihsed, pool, basement, neighbourhood, location, price, square price]\n",
       "Index: []\n",
       "\n",
       "[0 rows x 26 columns]"
      ]
     },
     "execution_count": 13,
     "metadata": {},
     "output_type": "execute_result"
    }
   ],
   "source": [
    "df[df.duplicated()]"
   ]
  },
  {
   "cell_type": "code",
   "execution_count": 14,
   "id": "fd8d41cd",
   "metadata": {},
   "outputs": [
    {
     "data": {
      "text/plain": [
       "'no duplicated rows'"
      ]
     },
     "execution_count": 14,
     "metadata": {},
     "output_type": "execute_result"
    }
   ],
   "source": [
    "'''no duplicated rows'''"
   ]
  },
  {
   "cell_type": "code",
   "execution_count": 15,
   "id": "04c62559-3b48-48cf-a4e9-857e2e0ff416",
   "metadata": {},
   "outputs": [],
   "source": [
    "# go to delete duplicates columns"
   ]
  },
  {
   "cell_type": "markdown",
   "id": "c7724ac2-4ea2-4cf4-a9e0-e64368f87b92",
   "metadata": {},
   "source": [
    "#### 6. Completeness: \n",
    "Ensure that no critical data is missing. This might mean checking for null values or required fields that are empty.\n",
    "\n",
    "We will start by checking the dataset for missing or null values. For this, we can use the isna() method which returns a dataframe of boolean values indicating if a field is null or not. To group all missing values by column, we can include the sum() method."
   ]
  },
  {
   "cell_type": "code",
   "execution_count": 16,
   "id": "48a4de54-a344-4b94-9908-9528c15c13f7",
   "metadata": {},
   "outputs": [
    {
     "data": {
      "text/plain": [
       "lounges          1118\n",
       "streetWidth       190\n",
       "square price        2\n",
       "price               2\n",
       "duplex              0\n",
       "location            0\n",
       "neighbourhood       0\n",
       "basement            0\n",
       "pool                0\n",
       "furnihsed           0\n",
       "elevator            0\n",
       "maidRoom            0\n",
       "apartments          0\n",
       "space               0\n",
       "Unnamed: 0          0\n",
       "front               0\n",
       "outdoorRoom         0\n",
       "kitchen             0\n",
       "patio               0\n",
       "tent                0\n",
       "driverRoom          0\n",
       "propertyAge         0\n",
       "stairs              0\n",
       "bathrooms           0\n",
       "rooms               0\n",
       "garage              0\n",
       "dtype: int64"
      ]
     },
     "execution_count": 16,
     "metadata": {},
     "output_type": "execute_result"
    }
   ],
   "source": [
    "#Display number missing values per column\n",
    "df.isnull().sum().sort_values(ascending=False)"
   ]
  },
  {
   "cell_type": "code",
   "execution_count": 17,
   "id": "3c02c4f9",
   "metadata": {},
   "outputs": [],
   "source": [
    "df.dropna(subset=['price', 'square price', 'lounges'], how='any', inplace=True)"
   ]
  },
  {
   "cell_type": "code",
   "execution_count": 18,
   "id": "99702049",
   "metadata": {},
   "outputs": [
    {
     "data": {
      "text/plain": [
       "streetWidth      172\n",
       "Unnamed: 0         0\n",
       "duplex             0\n",
       "price              0\n",
       "location           0\n",
       "neighbourhood      0\n",
       "basement           0\n",
       "pool               0\n",
       "furnihsed          0\n",
       "elevator           0\n",
       "maidRoom           0\n",
       "apartments         0\n",
       "space              0\n",
       "garage             0\n",
       "front              0\n",
       "outdoorRoom        0\n",
       "kitchen            0\n",
       "patio              0\n",
       "tent               0\n",
       "driverRoom         0\n",
       "propertyAge        0\n",
       "stairs             0\n",
       "bathrooms          0\n",
       "lounges            0\n",
       "rooms              0\n",
       "square price       0\n",
       "dtype: int64"
      ]
     },
     "execution_count": 18,
     "metadata": {},
     "output_type": "execute_result"
    }
   ],
   "source": [
    "df.isnull().sum().sort_values(ascending=False)"
   ]
  },
  {
   "cell_type": "code",
   "execution_count": 19,
   "id": "265ffcc5",
   "metadata": {},
   "outputs": [
    {
     "data": {
      "text/plain": [
       "(45706, 26)"
      ]
     },
     "execution_count": 19,
     "metadata": {},
     "output_type": "execute_result"
    }
   ],
   "source": [
    "df.shape"
   ]
  },
  {
   "cell_type": "code",
   "execution_count": 20,
   "id": "abec31c4-0904-4b73-8cee-b7bc14ab1e67",
   "metadata": {},
   "outputs": [],
   "source": [
    "# go to clean them "
   ]
  },
  {
   "cell_type": "markdown",
   "id": "b40de63c-5a1d-49ed-a87e-c5229ee08bbe",
   "metadata": {},
   "source": [
    "#### 7. Check Accuracy:\n",
    "\n",
    "Verify that the data is correct and precise. This could involve comparing data samples with known sources or using validation rules.\n",
    "\n",
    "**The process includes:**\n",
    "1. Validating the appropriateness of data types for the dataset.\n",
    "2. Identifying outliers  using established validation  rule"
   ]
  },
  {
   "cell_type": "code",
   "execution_count": 21,
   "id": "68be5334-ae10-4abd-8097-3259fe5e72c8",
   "metadata": {},
   "outputs": [
    {
     "data": {
      "text/plain": [
       "Unnamed: 0         int64\n",
       "front             object\n",
       "rooms              int64\n",
       "lounges           object\n",
       "bathrooms         object\n",
       "streetWidth      float64\n",
       "stairs             int64\n",
       "propertyAge        int64\n",
       "driverRoom         int64\n",
       "tent               int64\n",
       "patio              int64\n",
       "kitchen            int64\n",
       "outdoorRoom        int64\n",
       "garage             int64\n",
       "duplex             int64\n",
       "space              int64\n",
       "apartments        object\n",
       "maidRoom           int64\n",
       "elevator           int64\n",
       "furnihsed          int64\n",
       "pool               int64\n",
       "basement           int64\n",
       "neighbourhood     object\n",
       "location          object\n",
       "price            float64\n",
       "square price     float64\n",
       "dtype: object"
      ]
     },
     "execution_count": 21,
     "metadata": {},
     "output_type": "execute_result"
    }
   ],
   "source": [
    "# check columns types \n",
    "df.dtypes"
   ]
  },
  {
   "cell_type": "code",
   "execution_count": 22,
   "id": "e69bda42",
   "metadata": {},
   "outputs": [
    {
     "data": {
      "text/html": [
       "<div>\n",
       "<style scoped>\n",
       "    .dataframe tbody tr th:only-of-type {\n",
       "        vertical-align: middle;\n",
       "    }\n",
       "\n",
       "    .dataframe tbody tr th {\n",
       "        vertical-align: top;\n",
       "    }\n",
       "\n",
       "    .dataframe thead th {\n",
       "        text-align: right;\n",
       "    }\n",
       "</style>\n",
       "<table border=\"1\" class=\"dataframe\">\n",
       "  <thead>\n",
       "    <tr style=\"text-align: right;\">\n",
       "      <th></th>\n",
       "      <th>Unnamed: 0</th>\n",
       "      <th>front</th>\n",
       "      <th>rooms</th>\n",
       "      <th>lounges</th>\n",
       "      <th>bathrooms</th>\n",
       "      <th>streetWidth</th>\n",
       "      <th>stairs</th>\n",
       "      <th>propertyAge</th>\n",
       "      <th>driverRoom</th>\n",
       "      <th>tent</th>\n",
       "      <th>...</th>\n",
       "      <th>apartments</th>\n",
       "      <th>maidRoom</th>\n",
       "      <th>elevator</th>\n",
       "      <th>furnihsed</th>\n",
       "      <th>pool</th>\n",
       "      <th>basement</th>\n",
       "      <th>neighbourhood</th>\n",
       "      <th>location</th>\n",
       "      <th>price</th>\n",
       "      <th>square price</th>\n",
       "    </tr>\n",
       "  </thead>\n",
       "  <tbody>\n",
       "    <tr>\n",
       "      <th>0</th>\n",
       "      <td>0</td>\n",
       "      <td>شرقية</td>\n",
       "      <td>5</td>\n",
       "      <td>4</td>\n",
       "      <td>5+</td>\n",
       "      <td>20.0</td>\n",
       "      <td>1</td>\n",
       "      <td>0</td>\n",
       "      <td>1</td>\n",
       "      <td>1</td>\n",
       "      <td>...</td>\n",
       "      <td>0</td>\n",
       "      <td>0</td>\n",
       "      <td>0</td>\n",
       "      <td>0</td>\n",
       "      <td>0</td>\n",
       "      <td>0</td>\n",
       "      <td>عكاظ</td>\n",
       "      <td>جنوب الرياض</td>\n",
       "      <td>1050000.0</td>\n",
       "      <td>3500.000000</td>\n",
       "    </tr>\n",
       "    <tr>\n",
       "      <th>1</th>\n",
       "      <td>1</td>\n",
       "      <td>غربية</td>\n",
       "      <td>4</td>\n",
       "      <td>3</td>\n",
       "      <td>5+</td>\n",
       "      <td>20.0</td>\n",
       "      <td>1</td>\n",
       "      <td>0</td>\n",
       "      <td>1</td>\n",
       "      <td>1</td>\n",
       "      <td>...</td>\n",
       "      <td>2</td>\n",
       "      <td>1</td>\n",
       "      <td>1</td>\n",
       "      <td>0</td>\n",
       "      <td>0</td>\n",
       "      <td>0</td>\n",
       "      <td>المهدية</td>\n",
       "      <td>غرب الرياض</td>\n",
       "      <td>3000000.0</td>\n",
       "      <td>5555.555556</td>\n",
       "    </tr>\n",
       "    <tr>\n",
       "      <th>2</th>\n",
       "      <td>2</td>\n",
       "      <td>جنوبية شرقية</td>\n",
       "      <td>7</td>\n",
       "      <td>2</td>\n",
       "      <td>5+</td>\n",
       "      <td>15.0</td>\n",
       "      <td>1</td>\n",
       "      <td>31</td>\n",
       "      <td>1</td>\n",
       "      <td>0</td>\n",
       "      <td>...</td>\n",
       "      <td>0</td>\n",
       "      <td>1</td>\n",
       "      <td>0</td>\n",
       "      <td>0</td>\n",
       "      <td>0</td>\n",
       "      <td>0</td>\n",
       "      <td>الشفا</td>\n",
       "      <td>جنوب الرياض</td>\n",
       "      <td>2000000.0</td>\n",
       "      <td>2285.714286</td>\n",
       "    </tr>\n",
       "    <tr>\n",
       "      <th>3</th>\n",
       "      <td>3</td>\n",
       "      <td>غربية</td>\n",
       "      <td>7</td>\n",
       "      <td>3</td>\n",
       "      <td>5+</td>\n",
       "      <td>15.0</td>\n",
       "      <td>1</td>\n",
       "      <td>3</td>\n",
       "      <td>0</td>\n",
       "      <td>1</td>\n",
       "      <td>...</td>\n",
       "      <td>0</td>\n",
       "      <td>1</td>\n",
       "      <td>0</td>\n",
       "      <td>1</td>\n",
       "      <td>0</td>\n",
       "      <td>0</td>\n",
       "      <td>ظهرة لبن</td>\n",
       "      <td>غرب الرياض</td>\n",
       "      <td>894000.0</td>\n",
       "      <td>4470.000000</td>\n",
       "    </tr>\n",
       "    <tr>\n",
       "      <th>4</th>\n",
       "      <td>4</td>\n",
       "      <td>شمالية</td>\n",
       "      <td>4</td>\n",
       "      <td>2</td>\n",
       "      <td>4</td>\n",
       "      <td>25.0</td>\n",
       "      <td>1</td>\n",
       "      <td>0</td>\n",
       "      <td>1</td>\n",
       "      <td>1</td>\n",
       "      <td>...</td>\n",
       "      <td>3</td>\n",
       "      <td>1</td>\n",
       "      <td>1</td>\n",
       "      <td>1</td>\n",
       "      <td>0</td>\n",
       "      <td>0</td>\n",
       "      <td>قرطبة</td>\n",
       "      <td>شرق الرياض</td>\n",
       "      <td>3500000.0</td>\n",
       "      <td>8750.000000</td>\n",
       "    </tr>\n",
       "  </tbody>\n",
       "</table>\n",
       "<p>5 rows × 26 columns</p>\n",
       "</div>"
      ],
      "text/plain": [
       "   Unnamed: 0         front  rooms lounges bathrooms  streetWidth  stairs  \\\n",
       "0           0         شرقية      5       4        5+         20.0       1   \n",
       "1           1         غربية      4       3        5+         20.0       1   \n",
       "2           2  جنوبية شرقية      7       2        5+         15.0       1   \n",
       "3           3         غربية      7       3        5+         15.0       1   \n",
       "4           4        شمالية      4       2         4         25.0       1   \n",
       "\n",
       "   propertyAge  driverRoom  tent  ...  apartments  maidRoom  elevator  \\\n",
       "0            0           1     1  ...           0         0         0   \n",
       "1            0           1     1  ...           2         1         1   \n",
       "2           31           1     0  ...           0         1         0   \n",
       "3            3           0     1  ...           0         1         0   \n",
       "4            0           1     1  ...           3         1         1   \n",
       "\n",
       "   furnihsed  pool  basement neighbourhood     location      price  \\\n",
       "0          0     0         0         عكاظ   جنوب الرياض  1050000.0   \n",
       "1          0     0         0      المهدية    غرب الرياض  3000000.0   \n",
       "2          0     0         0        الشفا   جنوب الرياض  2000000.0   \n",
       "3          1     0         0     ظهرة لبن    غرب الرياض   894000.0   \n",
       "4          1     0         0        قرطبة    شرق الرياض  3500000.0   \n",
       "\n",
       "   square price  \n",
       "0   3500.000000  \n",
       "1   5555.555556  \n",
       "2   2285.714286  \n",
       "3   4470.000000  \n",
       "4   8750.000000  \n",
       "\n",
       "[5 rows x 26 columns]"
      ]
     },
     "execution_count": 22,
     "metadata": {},
     "output_type": "execute_result"
    }
   ],
   "source": [
    "df.head()"
   ]
  },
  {
   "cell_type": "code",
   "execution_count": 23,
   "id": "2ee790ba-dcc0-45f1-b6f8-0133e913e149",
   "metadata": {},
   "outputs": [],
   "source": [
    "# go to clean them\n",
    "#LATERRRR lounges, apartments, and bathrooms need cleaning\n",
    "\n",
    "df['price'] = df[['price']].astype(int)"
   ]
  },
  {
   "cell_type": "code",
   "execution_count": 24,
   "id": "3d6595b8",
   "metadata": {},
   "outputs": [
    {
     "data": {
      "text/plain": [
       "Index(['Unnamed: 0', 'front', 'rooms', 'lounges', 'bathrooms', 'streetWidth',\n",
       "       'stairs', 'propertyAge', 'driverRoom', 'tent', 'patio', 'kitchen',\n",
       "       'outdoorRoom', 'garage', 'duplex', 'space', 'apartments', 'maidRoom',\n",
       "       'elevator', 'furnihsed', 'pool', 'basement', 'neighbourhood',\n",
       "       'location', 'price', 'square price'],\n",
       "      dtype='object')"
      ]
     },
     "execution_count": 24,
     "metadata": {},
     "output_type": "execute_result"
    }
   ],
   "source": [
    "df.columns"
   ]
  },
  {
   "cell_type": "code",
   "execution_count": 25,
   "id": "c69b303a-5459-45f9-a28e-fcee45c21c05",
   "metadata": {},
   "outputs": [
    {
     "data": {
      "image/png": "[encoded data removed]",
      "text/plain": [
       "<Figure size 1500x1000 with 6 Axes>"
      ]
     },
     "metadata": {},
     "output_type": "display_data"
    }
   ],
   "source": [
    "\n",
    "numeric_cols = ['streetWidth', 'propertyAge', 'space', 'price', 'square price']\n",
    "\n",
    "fig, axes = plt.subplots(nrows=2, ncols=3, figsize=(15, 10))\n",
    "\n",
    "for i, col in enumerate(numeric_cols):\n",
    "    row_index = i // 3\n",
    "    col_index = i % 3\n",
    "    ax = axes[row_index, col_index]\n",
    "    \n",
    "    sns.boxplot(x=df[col], ax=ax)  \n",
    "    ax.set_title(f'Box Plot of {col}')\n",
    "    ax.set_xlabel('Values')  \n",
    "    ax.set_ylabel('Distribution') \n",
    "\n",
    "plt.tight_layout()\n",
    "plt.show()\n",
    "\n",
    "\n"
   ]
  },
  {
   "cell_type": "code",
   "execution_count": 26,
   "id": "c418536e",
   "metadata": {},
   "outputs": [
    {
     "name": "stdout",
     "output_type": "stream",
     "text": [
      "streetWidth : Q1=15.0, Q3=20.0, IQR=5.0 | lower bound=7.5, upper bound=27.5 min=1.0 max=100.0\n",
      "propertyAge : Q1=0.0, Q3=0.0, IQR=0.0 | lower bound=0.0, upper bound=0.0 min=0 max=35\n",
      "space : Q1=270.0, Q3=400.0, IQR=130.0 | lower bound=75.0, upper bound=595.0 min=50 max=10000\n",
      "price : Q1=1180000.0, Q3=2600000.0, IQR=1420000.0 | lower bound=-950000.0, upper bound=4730000.0 min=1080 max=100000000\n",
      "square price : Q1=3880.0, Q3=7600.0, IQR=3720.0 | lower bound=-1700.0, upper bound=13180.0 min=3.428571429 max=136144.5783\n"
     ]
    }
   ],
   "source": [
    "numeric_cols = ['streetWidth', 'propertyAge', 'space', 'price', 'square price']\n",
    "\n",
    "for n in numeric_cols:\n",
    "    q25, q75 = np.nanpercentile(df[n], [25, 75])\n",
    "    iqr = q75 - q25\n",
    "    lower_bound = q25 - 1.5 * iqr\n",
    "    upper_bound = q75 + 1.5 * iqr\n",
    "    print(f'{n} : Q1={q25}, Q3={q75}, IQR={iqr} | lower bound={lower_bound}, upper bound={upper_bound} min={df[n].min()} max={df[n].max()}')\n"
   ]
  },
  {
   "cell_type": "markdown",
   "id": "76d50367",
   "metadata": {},
   "source": [
    "# Natural Outliers\n",
    "- propertyAge\n",
    "- space\n",
    "- price\n",
    "- square price"
   ]
  },
  {
   "cell_type": "code",
   "execution_count": 27,
   "id": "610017d8",
   "metadata": {},
   "outputs": [
    {
     "data": {
      "text/plain": [
       "(1062, 26)"
      ]
     },
     "metadata": {},
     "output_type": "display_data"
    },
    {
     "name": "stderr",
     "output_type": "stream",
     "text": [
      "Address already in use\n",
      "Port 40000 is in use by another program. Either identify and stop that program, or start the server with a different port.\n",
      "2024-05-16 13:16:51,096 - ERROR    - 1\n",
      "Traceback (most recent call last):\n",
      "  File \"/opt/anaconda3/lib/python3.11/site-packages/werkzeug/serving.py\", line 710, in __init__\n",
      "    self.server_bind()\n",
      "  File \"/opt/anaconda3/lib/python3.11/http/server.py\", line 136, in server_bind\n",
      "    socketserver.TCPServer.server_bind(self)\n",
      "  File \"/opt/anaconda3/lib/python3.11/socketserver.py\", line 472, in server_bind\n",
      "    self.socket.bind(self.server_address)\n",
      "OSError: [Errno 48] Address already in use\n",
      "\n",
      "During handling of the above exception, another exception occurred:\n",
      "\n",
      "Traceback (most recent call last):\n",
      "  File \"/opt/anaconda3/lib/python3.11/site-packages/dtale/app.py\", line 859, in _start\n",
      "    app.run(\n",
      "  File \"/opt/anaconda3/lib/python3.11/site-packages/dtale/app.py\", line 223, in run\n",
      "    super(DtaleFlask, self).run(\n",
      "  File \"/opt/anaconda3/lib/python3.11/site-packages/flask/app.py\", line 1191, in run\n",
      "    run_simple(t.cast(str, host), port, self, **options)\n",
      "  File \"/opt/anaconda3/lib/python3.11/site-packages/werkzeug/serving.py\", line 1037, in run_simple\n",
      "    srv = make_server(\n",
      "          ^^^^^^^^^^^^\n",
      "  File \"/opt/anaconda3/lib/python3.11/site-packages/werkzeug/serving.py\", line 877, in make_server\n",
      "    return ThreadedWSGIServer(\n",
      "           ^^^^^^^^^^^^^^^^^^^\n",
      "  File \"/opt/anaconda3/lib/python3.11/site-packages/werkzeug/serving.py\", line 733, in __init__\n",
      "    sys.exit(1)\n",
      "SystemExit: 1\n"
     ]
    },
    {
     "data": {
      "text/html": [
       "\n",
       "        <iframe\n",
       "            width=\"100%\"\n",
       "            height=\"475\"\n",
       "            src=\"http://Suls-MacBook-Pro.local:40000/dtale/iframe/2\"\n",
       "            frameborder=\"0\"\n",
       "            allowfullscreen\n",
       "            \n",
       "        ></iframe>\n",
       "        "
      ],
      "text/plain": [
       "<IPython.lib.display.IFrame at 0x14e047810>"
      ]
     },
     "metadata": {},
     "output_type": "display_data"
    },
    {
     "data": {
      "text/plain": []
     },
     "execution_count": 27,
     "metadata": {},
     "output_type": "execute_result"
    }
   ],
   "source": [
    "# change column name and upper_bound to check outliers\n",
    "column_name = 'square price'\n",
    "upper_bound = 13000.0\n",
    "display(df[df[column_name] > upper_bound].shape)\n",
    "dt.show(df[df[column_name] > upper_bound])"
   ]
  },
  {
   "cell_type": "code",
   "execution_count": 28,
   "id": "09d6d149",
   "metadata": {},
   "outputs": [
    {
     "data": {
      "text/html": [
       "\n",
       "        <iframe\n",
       "            width=\"100%\"\n",
       "            height=\"475\"\n",
       "            src=\"http://Suls-MacBook-Pro.local:40000/dtale/iframe/3\"\n",
       "            frameborder=\"0\"\n",
       "            allowfullscreen\n",
       "            \n",
       "        ></iframe>\n",
       "        "
      ],
      "text/plain": [
       "<IPython.lib.display.IFrame at 0x14e433450>"
      ]
     },
     "metadata": {},
     "output_type": "display_data"
    },
    {
     "data": {
      "text/plain": []
     },
     "execution_count": 28,
     "metadata": {},
     "output_type": "execute_result"
    }
   ],
   "source": [
    "dt.show(df[df['neighbourhood'] == 'رة '] )"
   ]
  },
  {
   "cell_type": "code",
   "execution_count": 72,
   "id": "4e4dbe4c",
   "metadata": {},
   "outputs": [],
   "source": [
    "df = df[df['square price'] > 750]"
   ]
  },
  {
   "cell_type": "code",
   "execution_count": 29,
   "id": "90253c0f",
   "metadata": {},
   "outputs": [
    {
     "data": {
      "text/html": [
       "<div>\n",
       "<style scoped>\n",
       "    .dataframe tbody tr th:only-of-type {\n",
       "        vertical-align: middle;\n",
       "    }\n",
       "\n",
       "    .dataframe tbody tr th {\n",
       "        vertical-align: top;\n",
       "    }\n",
       "\n",
       "    .dataframe thead th {\n",
       "        text-align: right;\n",
       "    }\n",
       "</style>\n",
       "<table border=\"1\" class=\"dataframe\">\n",
       "  <thead>\n",
       "    <tr style=\"text-align: right;\">\n",
       "      <th></th>\n",
       "      <th>count</th>\n",
       "      <th>mean</th>\n",
       "      <th>std</th>\n",
       "      <th>min</th>\n",
       "      <th>25%</th>\n",
       "      <th>50%</th>\n",
       "      <th>75%</th>\n",
       "      <th>max</th>\n",
       "    </tr>\n",
       "  </thead>\n",
       "  <tbody>\n",
       "    <tr>\n",
       "      <th>Unnamed: 0</th>\n",
       "      <td>45706.0</td>\n",
       "      <td>2.594106e+04</td>\n",
       "      <td>1.499447e+04</td>\n",
       "      <td>0.000000</td>\n",
       "      <td>12946.25</td>\n",
       "      <td>25895.5</td>\n",
       "      <td>38944.75</td>\n",
       "      <td>5.184400e+04</td>\n",
       "    </tr>\n",
       "    <tr>\n",
       "      <th>rooms</th>\n",
       "      <td>45706.0</td>\n",
       "      <td>4.694701e+00</td>\n",
       "      <td>1.086177e+00</td>\n",
       "      <td>1.000000</td>\n",
       "      <td>4.00</td>\n",
       "      <td>5.0</td>\n",
       "      <td>5.00</td>\n",
       "      <td>7.000000e+00</td>\n",
       "    </tr>\n",
       "    <tr>\n",
       "      <th>streetWidth</th>\n",
       "      <td>45534.0</td>\n",
       "      <td>1.819392e+01</td>\n",
       "      <td>4.126472e+00</td>\n",
       "      <td>1.000000</td>\n",
       "      <td>15.00</td>\n",
       "      <td>20.0</td>\n",
       "      <td>20.00</td>\n",
       "      <td>1.000000e+02</td>\n",
       "    </tr>\n",
       "    <tr>\n",
       "      <th>stairs</th>\n",
       "      <td>45706.0</td>\n",
       "      <td>6.903908e-01</td>\n",
       "      <td>4.623376e-01</td>\n",
       "      <td>0.000000</td>\n",
       "      <td>0.00</td>\n",
       "      <td>1.0</td>\n",
       "      <td>1.00</td>\n",
       "      <td>1.000000e+00</td>\n",
       "    </tr>\n",
       "    <tr>\n",
       "      <th>propertyAge</th>\n",
       "      <td>45706.0</td>\n",
       "      <td>2.406380e+00</td>\n",
       "      <td>6.400610e+00</td>\n",
       "      <td>0.000000</td>\n",
       "      <td>0.00</td>\n",
       "      <td>0.0</td>\n",
       "      <td>0.00</td>\n",
       "      <td>3.500000e+01</td>\n",
       "    </tr>\n",
       "    <tr>\n",
       "      <th>driverRoom</th>\n",
       "      <td>45706.0</td>\n",
       "      <td>3.576555e-01</td>\n",
       "      <td>4.793152e-01</td>\n",
       "      <td>0.000000</td>\n",
       "      <td>0.00</td>\n",
       "      <td>0.0</td>\n",
       "      <td>1.00</td>\n",
       "      <td>1.000000e+00</td>\n",
       "    </tr>\n",
       "    <tr>\n",
       "      <th>tent</th>\n",
       "      <td>45706.0</td>\n",
       "      <td>4.725857e-01</td>\n",
       "      <td>4.992533e-01</td>\n",
       "      <td>0.000000</td>\n",
       "      <td>0.00</td>\n",
       "      <td>0.0</td>\n",
       "      <td>1.00</td>\n",
       "      <td>1.000000e+00</td>\n",
       "    </tr>\n",
       "    <tr>\n",
       "      <th>patio</th>\n",
       "      <td>45706.0</td>\n",
       "      <td>7.798538e-01</td>\n",
       "      <td>4.143496e-01</td>\n",
       "      <td>0.000000</td>\n",
       "      <td>1.00</td>\n",
       "      <td>1.0</td>\n",
       "      <td>1.00</td>\n",
       "      <td>1.000000e+00</td>\n",
       "    </tr>\n",
       "    <tr>\n",
       "      <th>kitchen</th>\n",
       "      <td>45706.0</td>\n",
       "      <td>9.801995e-01</td>\n",
       "      <td>1.393156e-01</td>\n",
       "      <td>0.000000</td>\n",
       "      <td>1.00</td>\n",
       "      <td>1.0</td>\n",
       "      <td>1.00</td>\n",
       "      <td>1.000000e+00</td>\n",
       "    </tr>\n",
       "    <tr>\n",
       "      <th>outdoorRoom</th>\n",
       "      <td>45706.0</td>\n",
       "      <td>6.531090e-01</td>\n",
       "      <td>4.759859e-01</td>\n",
       "      <td>0.000000</td>\n",
       "      <td>0.00</td>\n",
       "      <td>1.0</td>\n",
       "      <td>1.00</td>\n",
       "      <td>1.000000e+00</td>\n",
       "    </tr>\n",
       "    <tr>\n",
       "      <th>garage</th>\n",
       "      <td>45706.0</td>\n",
       "      <td>9.171006e-01</td>\n",
       "      <td>2.757331e-01</td>\n",
       "      <td>0.000000</td>\n",
       "      <td>1.00</td>\n",
       "      <td>1.0</td>\n",
       "      <td>1.00</td>\n",
       "      <td>1.000000e+00</td>\n",
       "    </tr>\n",
       "    <tr>\n",
       "      <th>duplex</th>\n",
       "      <td>45706.0</td>\n",
       "      <td>3.000044e-01</td>\n",
       "      <td>4.582645e-01</td>\n",
       "      <td>0.000000</td>\n",
       "      <td>0.00</td>\n",
       "      <td>0.0</td>\n",
       "      <td>1.00</td>\n",
       "      <td>1.000000e+00</td>\n",
       "    </tr>\n",
       "    <tr>\n",
       "      <th>space</th>\n",
       "      <td>45706.0</td>\n",
       "      <td>3.785848e+02</td>\n",
       "      <td>2.781638e+02</td>\n",
       "      <td>50.000000</td>\n",
       "      <td>270.00</td>\n",
       "      <td>312.0</td>\n",
       "      <td>400.00</td>\n",
       "      <td>1.000000e+04</td>\n",
       "    </tr>\n",
       "    <tr>\n",
       "      <th>maidRoom</th>\n",
       "      <td>45706.0</td>\n",
       "      <td>7.767470e-01</td>\n",
       "      <td>4.164311e-01</td>\n",
       "      <td>0.000000</td>\n",
       "      <td>1.00</td>\n",
       "      <td>1.0</td>\n",
       "      <td>1.00</td>\n",
       "      <td>1.000000e+00</td>\n",
       "    </tr>\n",
       "    <tr>\n",
       "      <th>elevator</th>\n",
       "      <td>45706.0</td>\n",
       "      <td>2.373649e-01</td>\n",
       "      <td>4.254724e-01</td>\n",
       "      <td>0.000000</td>\n",
       "      <td>0.00</td>\n",
       "      <td>0.0</td>\n",
       "      <td>0.00</td>\n",
       "      <td>1.000000e+00</td>\n",
       "    </tr>\n",
       "    <tr>\n",
       "      <th>furnihsed</th>\n",
       "      <td>45706.0</td>\n",
       "      <td>7.924561e-02</td>\n",
       "      <td>2.701247e-01</td>\n",
       "      <td>0.000000</td>\n",
       "      <td>0.00</td>\n",
       "      <td>0.0</td>\n",
       "      <td>0.00</td>\n",
       "      <td>1.000000e+00</td>\n",
       "    </tr>\n",
       "    <tr>\n",
       "      <th>pool</th>\n",
       "      <td>45706.0</td>\n",
       "      <td>1.173150e-01</td>\n",
       "      <td>3.217988e-01</td>\n",
       "      <td>0.000000</td>\n",
       "      <td>0.00</td>\n",
       "      <td>0.0</td>\n",
       "      <td>0.00</td>\n",
       "      <td>1.000000e+00</td>\n",
       "    </tr>\n",
       "    <tr>\n",
       "      <th>basement</th>\n",
       "      <td>45706.0</td>\n",
       "      <td>3.800376e-02</td>\n",
       "      <td>1.912074e-01</td>\n",
       "      <td>0.000000</td>\n",
       "      <td>0.00</td>\n",
       "      <td>0.0</td>\n",
       "      <td>0.00</td>\n",
       "      <td>1.000000e+00</td>\n",
       "    </tr>\n",
       "    <tr>\n",
       "      <th>price</th>\n",
       "      <td>45706.0</td>\n",
       "      <td>2.339001e+06</td>\n",
       "      <td>2.749706e+06</td>\n",
       "      <td>1080.000000</td>\n",
       "      <td>1180000.00</td>\n",
       "      <td>1600000.0</td>\n",
       "      <td>2600000.00</td>\n",
       "      <td>1.000000e+08</td>\n",
       "    </tr>\n",
       "    <tr>\n",
       "      <th>square price</th>\n",
       "      <td>45706.0</td>\n",
       "      <td>6.069008e+03</td>\n",
       "      <td>4.253487e+03</td>\n",
       "      <td>3.428571</td>\n",
       "      <td>3880.00</td>\n",
       "      <td>5000.0</td>\n",
       "      <td>7600.00</td>\n",
       "      <td>1.361446e+05</td>\n",
       "    </tr>\n",
       "  </tbody>\n",
       "</table>\n",
       "</div>"
      ],
      "text/plain": [
       "                count          mean           std          min         25%  \\\n",
       "Unnamed: 0    45706.0  2.594106e+04  1.499447e+04     0.000000    12946.25   \n",
       "rooms         45706.0  4.694701e+00  1.086177e+00     1.000000        4.00   \n",
       "streetWidth   45534.0  1.819392e+01  4.126472e+00     1.000000       15.00   \n",
       "stairs        45706.0  6.903908e-01  4.623376e-01     0.000000        0.00   \n",
       "propertyAge   45706.0  2.406380e+00  6.400610e+00     0.000000        0.00   \n",
       "driverRoom    45706.0  3.576555e-01  4.793152e-01     0.000000        0.00   \n",
       "tent          45706.0  4.725857e-01  4.992533e-01     0.000000        0.00   \n",
       "patio         45706.0  7.798538e-01  4.143496e-01     0.000000        1.00   \n",
       "kitchen       45706.0  9.801995e-01  1.393156e-01     0.000000        1.00   \n",
       "outdoorRoom   45706.0  6.531090e-01  4.759859e-01     0.000000        0.00   \n",
       "garage        45706.0  9.171006e-01  2.757331e-01     0.000000        1.00   \n",
       "duplex        45706.0  3.000044e-01  4.582645e-01     0.000000        0.00   \n",
       "space         45706.0  3.785848e+02  2.781638e+02    50.000000      270.00   \n",
       "maidRoom      45706.0  7.767470e-01  4.164311e-01     0.000000        1.00   \n",
       "elevator      45706.0  2.373649e-01  4.254724e-01     0.000000        0.00   \n",
       "furnihsed     45706.0  7.924561e-02  2.701247e-01     0.000000        0.00   \n",
       "pool          45706.0  1.173150e-01  3.217988e-01     0.000000        0.00   \n",
       "basement      45706.0  3.800376e-02  1.912074e-01     0.000000        0.00   \n",
       "price         45706.0  2.339001e+06  2.749706e+06  1080.000000  1180000.00   \n",
       "square price  45706.0  6.069008e+03  4.253487e+03     3.428571     3880.00   \n",
       "\n",
       "                    50%         75%           max  \n",
       "Unnamed: 0      25895.5    38944.75  5.184400e+04  \n",
       "rooms               5.0        5.00  7.000000e+00  \n",
       "streetWidth        20.0       20.00  1.000000e+02  \n",
       "stairs              1.0        1.00  1.000000e+00  \n",
       "propertyAge         0.0        0.00  3.500000e+01  \n",
       "driverRoom          0.0        1.00  1.000000e+00  \n",
       "tent                0.0        1.00  1.000000e+00  \n",
       "patio               1.0        1.00  1.000000e+00  \n",
       "kitchen             1.0        1.00  1.000000e+00  \n",
       "outdoorRoom         1.0        1.00  1.000000e+00  \n",
       "garage              1.0        1.00  1.000000e+00  \n",
       "duplex              0.0        1.00  1.000000e+00  \n",
       "space             312.0      400.00  1.000000e+04  \n",
       "maidRoom            1.0        1.00  1.000000e+00  \n",
       "elevator            0.0        0.00  1.000000e+00  \n",
       "furnihsed           0.0        0.00  1.000000e+00  \n",
       "pool                0.0        0.00  1.000000e+00  \n",
       "basement            0.0        0.00  1.000000e+00  \n",
       "price         1600000.0  2600000.00  1.000000e+08  \n",
       "square price     5000.0     7600.00  1.361446e+05  "
      ]
     },
     "execution_count": 29,
     "metadata": {},
     "output_type": "execute_result"
    }
   ],
   "source": [
    "df.describe().T"
   ]
  },
  {
   "cell_type": "code",
   "execution_count": 112,
   "id": "e6eecc6b",
   "metadata": {},
   "outputs": [
    {
     "data": {
      "text/plain": [
       "16000.0"
      ]
     },
     "execution_count": 112,
     "metadata": {},
     "output_type": "execute_result"
    }
   ],
   "source": [
    "df['square price'].max()"
   ]
  },
  {
   "cell_type": "markdown",
   "id": "4aca9d42-add6-45db-92cf-1f6dae5f277b",
   "metadata": {},
   "source": [
    "**What is an Outlier?** \n",
    "Outlier is an row/observation that appears far away and diverges from an overall pattern in a sample.\n",
    "\n",
    "**What are the types of Outliers?**\n",
    "1. Univariate: These outliers can be found when we look at distribution of a single variable\n",
    "2. Multivariate: are outliers in an n-dimensional space. In order to find them, you have to look at distributions in multi-dimensions. example (hight=100, weight=100) for a person\n",
    "\n",
    "**What causes Outliers?**\n",
    "Whenever we come across outliers, the ideal way to tackle them is to find out the reason of having these outliers. The method to deal with them would then depend on the reason of their occurrence.\n",
    "\n",
    "Let’s understand various types of outliers:\n",
    "\n",
    "1. Data Entry Errors:- Human errors such as errors caused during data collection, recording, or entry can cause outliers in data.\n",
    "2. Measurement Error: It is the most common source of outliers. This is caused when the measurement instrument used turns out to be faulty.\n",
    "3. Data Processing Error: Whenever we perform data mining, we extract data from multiple sources. It is possible that some manipulation or extraction errors may lead to outliers in the dataset.\n",
    "4. Sampling error: For instance, we have to measure the height of athletes. By mistake, we include a few basketball players in the sample. This inclusion is likely to cause outliers in the dataset.\n",
    "5. Natural Outlier: When an outlier is not artificial (due to error), it is a natural outlier. For instance: In my last assignment with one of the renowned insurance company, I noticed that the performance of top 50 financial advisors was far higher than rest of the population. Surprisingly, it was not due to any error. Hence, whenever we perform any data mining activity with advisors, we used to treat this segment separately.\n",
    "\n",
    "\n",
    "**What is the impact of Outliers on a dataset?**\n",
    "\n",
    "\n",
    "![image.png](https://www.analyticsvidhya.com/wp-content/uploads/2015/02/Outlier_31.png)\n",
    "\n",
    "\n",
    "\n",
    "**How to detect Outliers?**\n",
    "\n",
    "1. Most commonly used method to detect outliers is visualization (Univariate Graphical Analysis).\n",
    "\n",
    "We use 3 common visualization methods:\n",
    ">- Box-plot: A box plot is a method for graphically depicting groups of numerical data through their quartiles. The box extends from the Q1 to Q3 quartile values of the data, with a line at the median (Q2). The whiskers extend from the edges of the box to show the range of the data. Outlier points are those past the end of the whiskers. Box plots show robust measures of location and spread as well as providing information about symmetry and outliers.\n",
    ">\n",
    ">  \n",
    ">![image.png](https://miro.medium.com/v2/resize:fit:698/format:webp/1*VK5iHA2AB28HSZwWwUbNYg.png)\n",
    ">\n",
    ">\n",
    ">- Histogram\n",
    ">- Scatter Plot: A scatter plot is a mathematical diagram using Cartesian coordinates to display values for two variables for a set of data. The data are displayed as a collection of points, each having the value of one variable determining the position on the horizontal axis and the value of the other variable determining the position on the vertical axis. The points that are far from the population can be termed as an outlier.\n",
    ">\n",
    ">  \n",
    ">![image.png](https://miro.medium.com/v2/resize:fit:4800/format:webp/1*Ov6aH-8yIwNoUxtMFwgx4g.png)\n",
    ">\n",
    ">\n",
    "\n",
    "2. Using statistical method (Univariate Non-Graphical analysis):\n",
    ">- Any value, which is beyond the range of -1.5 x IQR to 1.5 x IQR\n",
    " \n",
    "![image.png](https://www.whatissixsigma.net/wp-content/uploads/2015/07/Box-Plot-Diagram-to-identify-Outliers-figure-1.png)\n",
    "\n",
    ">- Use capping methods. Any value which out of range of 5th and 95th percentile can be considered as outlier\n",
    ">- Data points, three or more standard deviation away from mean are considered outlier: The Z-score is the signed number of standard deviations by which the value of an observation or data point is above the mean value of what is being observed or measured. While calculating the Z-score we re-scale and center the data and look for data points that are too far from zero. These data points which are way too far from zero will be treated as the outliers. In most of the cases, a threshold of 3 or -3 is used i.e if the Z-score value is greater than or less than 3 or -3 respectively, that data point will be identified as outliers.\n",
    "> - Outlier detection is merely a special case of the examination of data for influential data points and it also depends on the business understanding\n"
   ]
  },
  {
   "cell_type": "code",
   "execution_count": 31,
   "id": "74ea6194-cc01-45d8-be38-c4543eb1714e",
   "metadata": {},
   "outputs": [],
   "source": [
    "# go to univariate graphical analysis\n",
    "# go to lesson : data visualisation 1 - chart type section\n",
    "# then go to univariate graphical analysis\n",
    "# detect outliers using graphs varbaly"
   ]
  },
  {
   "cell_type": "code",
   "execution_count": 32,
   "id": "48ecf77b-480c-4f64-9485-95be805bc357",
   "metadata": {},
   "outputs": [],
   "source": [
    "# go to lesson: statistics 1 then statistics 3\n",
    "# then go to univariate Non graphical analysis\n",
    "# detect outliers using numerical statistics "
   ]
  },
  {
   "cell_type": "code",
   "execution_count": 33,
   "id": "ee200da8-62b0-492d-b118-f4d665a1fb16",
   "metadata": {},
   "outputs": [
    {
     "data": {
      "image/png": "[encoded data removed]",
      "text/plain": [
       "<Figure size 1000x1000 with 6 Axes>"
      ]
     },
     "metadata": {},
     "output_type": "display_data"
    }
   ],
   "source": [
    "\n",
    "numeric_cols = ['streetWidth', 'propertyAge', 'space', 'price', 'square price']\n",
    "\n",
    "# Determine the number of rows and columns for subplots based on the number of numeric columns\n",
    "num_plots = len(numeric_cols)\n",
    "cols_per_row = 3  # Number of columns per row\n",
    "num_rows = (num_plots - 1) // cols_per_row + 1\n",
    "\n",
    "# Create a grid of subplots\n",
    "fig, axes = plt.subplots(nrows=num_rows, ncols=cols_per_row, figsize=(10, 5*num_rows))\n",
    "\n",
    "# Iterate through each numeric column and create a scatter plot in the corresponding subplot\n",
    "for i, col in enumerate(numeric_cols):\n",
    "    row_index = i // cols_per_row\n",
    "    col_index = i % cols_per_row\n",
    "    ax = axes[row_index, col_index]\n",
    "    \n",
    "    ax.scatter(x=df.index, y=df[col])  # Create scatter plot in the current subplot\n",
    "    ax.set_title(f'Scatter Plot of {col}')  # Set subplot title\n",
    "    ax.set_xlabel('Index')  # Set x-axis label\n",
    "    ax.set_ylabel(f'{col} Values')  # Set y-axis label\n",
    "\n",
    "# Adjust layout and spacing between subplots\n",
    "plt.tight_layout()\n",
    "\n",
    "# Show plots\n",
    "plt.show()"
   ]
  },
  {
   "cell_type": "code",
   "execution_count": 34,
   "id": "4e66d611-6958-4860-8522-9ada7fce40b0",
   "metadata": {},
   "outputs": [],
   "source": [
    "# go to delete ouliers"
   ]
  },
  {
   "attachments": {},
   "cell_type": "markdown",
   "id": "4e886ec7-388c-414b-ada7-803c2fb1f2cb",
   "metadata": {},
   "source": [
    "## 2. Data Cleaning: \n",
    "\n",
    "Preliminary findings from data profiling can lead to cleaning the data by:\n",
    "- Handling missing values\n",
    "- Correcting errors.\n",
    "- Dealing with outliers.\n",
    "\n",
    "-------------------\n",
    "\n"
   ]
  },
  {
   "cell_type": "markdown",
   "id": "21876b48-f5ec-4970-85a9-0520d45d8841",
   "metadata": {},
   "source": [
    "### Handling missing values:"
   ]
  },
  {
   "cell_type": "markdown",
   "id": "c890d5a2-2a65-4090-9427-f89c0f011d3f",
   "metadata": {},
   "source": [
    "**Why my data has missing values?**\n",
    "They may occur at two stages:\n",
    "1. Data Extraction: It is possible that there are problems with extraction process. Errors at data extraction stage are typically easy to find and can be corrected easily as well.\n",
    "2. Data collection: These errors occur at time of data collection and are harder to correct.\n",
    "\n",
    "**Why do we need to handle the missing data?**\n",
    "To avoid:\n",
    "- Bias the conclusions.\n",
    "- Leading the business to make wrong decisions.\n",
    "\n",
    "**Which are the methods to treat missing values ?**\n",
    "1. Deletion: we delete rows where any of the variable is missing. Simplicity is one of the major advantage of this method, but this method reduces the power of model because it reduces the sample size.\n",
    "\n",
    "2. Imputation: is a method to fill in the missing values with estimated ones. This imputation is one of the most frequently used methods.\n",
    "\n",
    "    2.1. Mean/ Mode/ Median Imputation: It consists of replacing the missing data for a given attribute by the mean or median (quantitative attribute) or mode (qualitative attribute) of all known values of that variable.\n",
    "    > It can be of two types:\n",
    "    > - Generalized Imputation: In this case, we calculate the mean or median for all non missing values of that variable then replace missing value with mean or median.\n",
    "    > - Similar case Imputation: In this case, we calculate average for each group individually of non missing values then replace the missing value based on the group.\n",
    "\n",
    "    2.2. Constant Value\n",
    "   \n",
    "    2.3. Forward Filling\n",
    "   \n",
    "    2.4. Backward Filling\n",
    "\n",
    "6. Prediction Model:  Prediction model is one of the sophisticated method for handling missing data. Here, we create a predictive model to estimate values that will substitute the missing data.  In this case, we divide our data set into two sets: One set with no missing values for the variable and another one with missing values. First data set become training data set of the model while second data set with missing values is test data set and variable with missing values is treated as target variable. Next, we create a model to predict target variable based on other attributes of the training data set and populate missing values of test data set.\n",
    "\n",
    "> There are 2 drawbacks for this approach:\n",
    "> - The model estimated values are usually more well-behaved than the true values\n",
    "> - If there are no relationships with attributes in the data set and the attribute with missing values, then the model will not be precise for estimating missing values.\n",
    "\n",
    "9. KNN Imputation: In this method of imputation, the missing values of an attribute are imputed using the given number of attributes that are most similar to the attribute whose values are missing. The similarity of two attributes is determined using a distance function. It is also known to have certain advantage & disadvantages.\n",
    "\n",
    "   > **Advantages:**\n",
    "   > - k-nearest neighbour can predict both qualitative & quantitative attributes\n",
    "   > - Creation of predictive model for each attribute with missing data is not required\n",
    "   > - Attributes with multiple missing values can be easily treated\n",
    "   > - Correlation structure of the data is taken into consideration\n",
    "\n",
    "   > **Disadvantage:**\n",
    "   > - KNN algorithm is very time-consuming in analyzing large database. It searches through all the dataset looking for the most similar instances.\n",
    "   > - Choice of k-value is very critical. Higher value of k would include attributes which are significantly different from what we need whereas lower value of k implies missing out of significant attributes.\n",
    "\n",
    "--------------------\n"
   ]
  },
  {
   "cell_type": "code",
   "execution_count": null,
   "id": "57e741fb-71c1-46ad-a526-d8f0b1564dc3",
   "metadata": {},
   "outputs": [],
   "source": []
  },
  {
   "cell_type": "code",
   "execution_count": 35,
   "id": "01287962-8077-4c01-8d1d-5f8aed6cb37a",
   "metadata": {},
   "outputs": [],
   "source": [
    "# go back to 6th dimention --> Completeness"
   ]
  },
  {
   "cell_type": "markdown",
   "id": "f7cee10f-0af8-44e5-b595-8e965294daad",
   "metadata": {},
   "source": [
    "### Correcting errors\n",
    "\n",
    "-------------------"
   ]
  },
  {
   "cell_type": "code",
   "execution_count": 36,
   "id": "06273b88-a169-42e8-81f5-5d71cb3f9c21",
   "metadata": {},
   "outputs": [],
   "source": [
    "df['bathrooms'] = df['bathrooms'].apply(lambda x: int(x.replace('+', '')))"
   ]
  },
  {
   "cell_type": "code",
   "execution_count": 37,
   "id": "d0c13dfc",
   "metadata": {},
   "outputs": [],
   "source": [
    "df['bathrooms'] = df['bathrooms'].astype(int)"
   ]
  },
  {
   "cell_type": "code",
   "execution_count": 38,
   "id": "d6a6092a",
   "metadata": {},
   "outputs": [
    {
     "data": {
      "text/plain": [
       "0        5\n",
       "1        5\n",
       "2        5\n",
       "3        5\n",
       "4        4\n",
       "        ..\n",
       "46820    3\n",
       "46821    5\n",
       "46822    5\n",
       "46823    5\n",
       "46825    5\n",
       "Name: bathrooms, Length: 45706, dtype: int64"
      ]
     },
     "execution_count": 38,
     "metadata": {},
     "output_type": "execute_result"
    }
   ],
   "source": [
    "df['bathrooms']"
   ]
  },
  {
   "cell_type": "code",
   "execution_count": 39,
   "id": "fa7b5bd3",
   "metadata": {},
   "outputs": [],
   "source": [
    "df['lounges'] = df['lounges'].apply(lambda x: int(x.replace('+', '')))"
   ]
  },
  {
   "cell_type": "code",
   "execution_count": 40,
   "id": "fa14ca3b",
   "metadata": {},
   "outputs": [],
   "source": [
    "df['lounges'] = df['lounges'].astype(int)"
   ]
  },
  {
   "cell_type": "code",
   "execution_count": 41,
   "id": "7d9064c1",
   "metadata": {},
   "outputs": [],
   "source": [
    "df.drop(columns=['apartments'], inplace=True)"
   ]
  },
  {
   "cell_type": "code",
   "execution_count": 42,
   "id": "f4592a45",
   "metadata": {},
   "outputs": [
    {
     "data": {
      "text/plain": [
       "Unnamed: 0         int64\n",
       "front             object\n",
       "rooms              int64\n",
       "lounges            int64\n",
       "bathrooms          int64\n",
       "streetWidth      float64\n",
       "stairs             int64\n",
       "propertyAge        int64\n",
       "driverRoom         int64\n",
       "tent               int64\n",
       "patio              int64\n",
       "kitchen            int64\n",
       "outdoorRoom        int64\n",
       "garage             int64\n",
       "duplex             int64\n",
       "space              int64\n",
       "maidRoom           int64\n",
       "elevator           int64\n",
       "furnihsed          int64\n",
       "pool               int64\n",
       "basement           int64\n",
       "neighbourhood     object\n",
       "location          object\n",
       "price              int64\n",
       "square price     float64\n",
       "dtype: object"
      ]
     },
     "execution_count": 42,
     "metadata": {},
     "output_type": "execute_result"
    }
   ],
   "source": [
    "df.dtypes"
   ]
  },
  {
   "cell_type": "code",
   "execution_count": 43,
   "id": "1ab0c036",
   "metadata": {},
   "outputs": [],
   "source": [
    "df['neighbourhood'] = df['neighbourhood'].apply(lambda x: x.strip())"
   ]
  },
  {
   "cell_type": "code",
   "execution_count": 44,
   "id": "791f22dc",
   "metadata": {},
   "outputs": [],
   "source": [
    "removelist = [n for n in set(df['neighbourhood'].values) if n.startswith('ى')]\n",
    "df = df[~df['neighbourhood'].isin(removelist)]"
   ]
  },
  {
   "cell_type": "code",
   "execution_count": 45,
   "id": "7b8ad2fc",
   "metadata": {},
   "outputs": [],
   "source": [
    "removelist = [n for n in set(df['neighbourhood'].values) if n.startswith('ي')]\n",
    "df = df[~df['neighbourhood'].isin(removelist)]"
   ]
  },
  {
   "cell_type": "code",
   "execution_count": 46,
   "id": "2722f496",
   "metadata": {},
   "outputs": [],
   "source": [
    "removelist = [n for n in set(df['neighbourhood'].values) if len(n) < 3]\n",
    "df = df[~df['neighbourhood'].isin(removelist)]"
   ]
  },
  {
   "cell_type": "code",
   "execution_count": 47,
   "id": "047f0a47",
   "metadata": {},
   "outputs": [],
   "source": [
    "removelist = [n for n in set(df['neighbourhood'].values) if n.startswith('ة')]\n",
    "df['neighbourhood'] = df['neighbourhood'].apply(lambda x: x[1] if x in removelist else x)\n",
    "\n"
   ]
  },
  {
   "cell_type": "code",
   "execution_count": 48,
   "id": "6584bc86",
   "metadata": {},
   "outputs": [],
   "source": [
    "removelist = [n for n in set(df['neighbourhood'].values) if n.startswith('م')]\n",
    "df = df[~df['neighbourhood'].isin(removelist)]"
   ]
  },
  {
   "cell_type": "code",
   "execution_count": 49,
   "id": "7c3fa1e1",
   "metadata": {},
   "outputs": [],
   "source": [
    "removelist = [n for n in set(df['neighbourhood'].values) if len(n) < 4]\n",
    "removelist = ['ويه', 'ذيف', 'رفه', 'سيه', 'اني', 'رات', 'سية', 'فات', ' ']\n",
    "df = df[~df['neighbourhood'].isin(removelist)]\n"
   ]
  },
  {
   "cell_type": "code",
   "execution_count": 50,
   "id": "dc2b69b7",
   "metadata": {},
   "outputs": [],
   "source": [
    "df['neighbourhood'] = df['neighbourhood'].apply(lambda x: 'احد' if x == 'أحد' else x)"
   ]
  },
  {
   "cell_type": "code",
   "execution_count": 97,
   "id": "13a26384",
   "metadata": {},
   "outputs": [],
   "source": [
    "namelist = [n for n in set(df['neighbourhood'].values)]\n",
    "names_toremove = ['ه بن خليفه',\n",
    " 'رة فان',\n",
    " 'أبي خضير',\n",
    " 'أحمد السف',\n",
    " 'اض بن قيس بن الأعور',\n",
    " 'وة بن شريح',\n",
    " 'درة بن علي',\n",
    " 'رة النوبة',\n",
    " 'لقاح',\n",
    " 'الدريهمية',\n",
    " 'الكتاني',\n",
    " 'ان مولى قريش',\n",
    " 'ف العنبري',\n",
    " 'كمال',\n",
    " 'ده بن معاويه',\n",
    " 'السدوسي',\n",
    " 'اء البغدادية',\n",
    " 'دره التونسي',\n",
    " 'بن عمر الملتوني',\n",
    " 'أم الحمام الغربي',\n",
    " 'ان بن عبدالله',\n",
    " 'باني',\n",
    " 'الانسي']\n",
    "df = df[~df['neighbourhood'].isin(names_toremove)]\n"
   ]
  },
  {
   "cell_type": "code",
   "execution_count": 98,
   "id": "4eaf3edd",
   "metadata": {},
   "outputs": [
    {
     "data": {
      "text/html": [
       "\n",
       "        <iframe\n",
       "            width=\"100%\"\n",
       "            height=\"475\"\n",
       "            src=\"http://Suls-MacBook-Pro.local:40000/dtale/iframe/4\"\n",
       "            frameborder=\"0\"\n",
       "            allowfullscreen\n",
       "            \n",
       "        ></iframe>\n",
       "        "
      ],
      "text/plain": [
       "<IPython.lib.display.IFrame at 0x14e3ee250>"
      ]
     },
     "metadata": {},
     "output_type": "display_data"
    },
    {
     "data": {
      "text/plain": []
     },
     "execution_count": 98,
     "metadata": {},
     "output_type": "execute_result"
    }
   ],
   "source": [
    "dt.show(df)"
   ]
  },
  {
   "cell_type": "code",
   "execution_count": 61,
   "id": "53d637fe",
   "metadata": {},
   "outputs": [
    {
     "data": {
      "text/plain": [
       "neighbourhood\n",
       "طويق               7676\n",
       "الرمال             4318\n",
       "عكاظ               3161\n",
       "النرجس             3121\n",
       "بدر                2710\n",
       "                   ... \n",
       "أحمد السف             1\n",
       "ثليم                  1\n",
       "ف العنبري             1\n",
       "المعيزلة              1\n",
       "العريجاء الغربي       1\n",
       "Name: count, Length: 168, dtype: int64"
      ]
     },
     "execution_count": 61,
     "metadata": {},
     "output_type": "execute_result"
    }
   ],
   "source": [
    "df['neighbourhood'].value_counts()"
   ]
  },
  {
   "cell_type": "code",
   "execution_count": 60,
   "id": "97433f1b",
   "metadata": {},
   "outputs": [
    {
     "data": {
      "text/html": [
       "\n",
       "        <iframe\n",
       "            width=\"100%\"\n",
       "            height=\"475\"\n",
       "            src=\"http://Suls-MacBook-Pro.local:40000/dtale/iframe/10\"\n",
       "            frameborder=\"0\"\n",
       "            allowfullscreen\n",
       "            \n",
       "        ></iframe>\n",
       "        "
      ],
      "text/plain": [
       "<IPython.lib.display.IFrame at 0x14eecf610>"
      ]
     },
     "metadata": {},
     "output_type": "display_data"
    },
    {
     "data": {
      "text/plain": []
     },
     "execution_count": 60,
     "metadata": {},
     "output_type": "execute_result"
    }
   ],
   "source": [
    "dt.show(df[(df['price'] >= 50000000) & (df['space'] <= 50)])"
   ]
  },
  {
   "cell_type": "code",
   "execution_count": 64,
   "id": "9ba9a82e",
   "metadata": {},
   "outputs": [],
   "source": [
    "df.drop(columns=['Unnamed: 0'], inplace=True)"
   ]
  },
  {
   "cell_type": "code",
   "execution_count": 65,
   "id": "bfaa9a73",
   "metadata": {},
   "outputs": [],
   "source": [
    "df = df[df['square price']  <= 16000]"
   ]
  },
  {
   "cell_type": "code",
   "execution_count": 113,
   "id": "9573b70a",
   "metadata": {},
   "outputs": [
    {
     "data": {
      "text/html": [
       "\n",
       "        <iframe\n",
       "            width=\"100%\"\n",
       "            height=\"475\"\n",
       "            src=\"http://Suls-MacBook-Pro.local:40000/dtale/iframe/5\"\n",
       "            frameborder=\"0\"\n",
       "            allowfullscreen\n",
       "            \n",
       "        ></iframe>\n",
       "        "
      ],
      "text/plain": [
       "<IPython.lib.display.IFrame at 0x150666890>"
      ]
     },
     "metadata": {},
     "output_type": "display_data"
    },
    {
     "data": {
      "text/plain": []
     },
     "execution_count": 113,
     "metadata": {},
     "output_type": "execute_result"
    }
   ],
   "source": [
    "dt.show(df)"
   ]
  },
  {
   "cell_type": "code",
   "execution_count": 52,
   "id": "f1d95da5-a3ba-473a-8243-aa177cadae20",
   "metadata": {},
   "outputs": [],
   "source": [
    "# go back to 7th dimension Accuracy "
   ]
  },
  {
   "cell_type": "markdown",
   "id": "5ecc7dbb-6867-44cf-8f99-1b969a80be40",
   "metadata": {},
   "source": [
    "### Dealing with outliers:"
   ]
  },
  {
   "attachments": {},
   "cell_type": "markdown",
   "id": "88347887-4bdf-48af-9486-cb8fe80c97af",
   "metadata": {},
   "source": [
    "**How to remove Outliers?**\n",
    "Most of the ways to deal with outliers are similar to the methods of missing values like deleting rows, transforming them, binning them, treat them as a separate group, imputing values and other statistical methods. Here, we will discuss the common techniques used to deal with outliers:\n",
    "\n",
    "1. Deleting rows: We delete outlier values if it is due to data entry error, data processing error or outlier rows are very small in numbers. We can also use trimming at both ends to remove outliers.\n",
    "\n",
    "2. Imputing: Like imputation of missing values, we can also impute outliers. We can use mean, median, mode imputation methods. Before imputing values, we should analyse if it is natural outlier or artificial. If it is artificial, we can go with imputing values. We can also use statistical model to predict values of outlier rows and after that we can impute it with predicted values.\n",
    "\n",
    "3. Treat separately: If there are significant number of outliers, we should treat them separately in the statistical model. One of the approach is to treat both groups as two different groups and build individual model for both groups and then combine the output.\n"
   ]
  },
  {
   "cell_type": "code",
   "execution_count": null,
   "id": "25a585f0-2b9c-42fa-bf21-cacc6aa3be3f",
   "metadata": {},
   "outputs": [],
   "source": []
  },
  {
   "cell_type": "markdown",
   "id": "98548b66-e309-4eb8-a5dc-65fe0abbf1e8",
   "metadata": {},
   "source": [
    "## 3. Univariate Analysis: \n",
    "\n",
    "This involves examining single variables to understand their characteristics (distribution, central tendency, dispersion, and shape).\n",
    "\n",
    "We calculate **numerical values** about the data that tells us about the distribution of the data. We also **draw graphs** showing visually how the data is distributed. **To answer the following questions about Features/characteristics of Data:**\n",
    "- Where is the center of the data? (location)\n",
    "- How much does the data vary? (scale)\n",
    "- What is the shape of the data? (shape)\n",
    "\n",
    "**The benefits of this analysis:**\n",
    "Statistics summary gives a high-level idea to identify whether the data has any outliers, data entry error, distribution of data such as the data is normally distributed or left/right skewed\n",
    "\n",
    "**In this step, we will explore variables one by one using following approaches:**"
   ]
  },
  {
   "cell_type": "markdown",
   "id": "d6718111-7ac2-4fff-9851-654655b62e0b",
   "metadata": {},
   "source": [
    "### 1. Univariate Graphical Analysis:\n",
    "Method to perform uni-variate analysis will depend on whether the variable type is categorical or numerical."
   ]
  },
  {
   "cell_type": "code",
   "execution_count": null,
   "id": "db79d803-b75c-4686-a623-e8420321a90f",
   "metadata": {},
   "outputs": [],
   "source": []
  },
  {
   "cell_type": "markdown",
   "id": "0d57c4b9-9bb3-494d-85dd-b8d39afda139",
   "metadata": {},
   "source": [
    "#### I. Categorical Variables:\n",
    "\n",
    "we’ll use frequency table to understand distribution of each category\n",
    "- Bar Chart (Ordinal) - Orderd\n",
    "- Pie Chart (Nominal) - non Orderd"
   ]
  },
  {
   "cell_type": "code",
   "execution_count": null,
   "id": "72ece4b7-5508-403a-8fb0-f519fc74272a",
   "metadata": {},
   "outputs": [],
   "source": []
  },
  {
   "cell_type": "markdown",
   "id": "d2641f0d-80f2-493b-99b7-15476379a1e2",
   "metadata": {},
   "source": [
    "#### II. Numerical Variables:\n",
    "\n",
    "we need to understand the central tendency and spread of the variable (Descriptive Analysis) using:\n",
    "   - Box plot\n",
    "   - Histogram"
   ]
  },
  {
   "cell_type": "code",
   "execution_count": null,
   "id": "5be16f08-a072-4a02-a3ee-6f9d57786fb4",
   "metadata": {},
   "outputs": [],
   "source": []
  },
  {
   "cell_type": "markdown",
   "id": "d66677d3-44ad-414f-9b39-f9c1995ad043",
   "metadata": {},
   "source": [
    "### 2. Univariate Non-Graphical analysis: \n",
    "\n",
    "- Where is the center of the data? (location) --> **Measures of central tendency**\n",
    "- How much does the data vary? (scale) --> **Measure of variability**\n",
    "- What is the shape of the data? (shape) --> **Measures of variation combined with an average (measure of center) gives a good picture of the distribution of the data.**"
   ]
  },
  {
   "cell_type": "code",
   "execution_count": null,
   "id": "f1058d84-e61e-4f5b-b66a-29931e77821b",
   "metadata": {},
   "outputs": [],
   "source": []
  },
  {
   "cell_type": "markdown",
   "id": "f09bb809-0edd-432b-bf23-abd0840b3e16",
   "metadata": {},
   "source": [
    "## 4. Bivariate/Multivariate Analysis:\n",
    "\n",
    "Here, you look at the relationships between two or more variables. This can involve looking for correlations, patterns, and trends that suggest a relationship or an association.\n",
    "\n",
    "We can perform bi-variate analysis for any combination of categorical and numerical variables. The combination can be:\n",
    "| bi-variate variables   | Plot type |\n",
    "| ------------- | ------------- |\n",
    "| Categorical & Categorical| Stacked Bar Chart |\n",
    "| Categorical & numerical  | scatter plot, histogram, box plot|\n",
    "| numerical  & numerical  | Scatter plot, line chart| \n",
    "\n",
    "\n",
    "Multivariate Analysis:\n",
    "- Heat map\n",
    "- Bar Chart\n",
    "- Scatter Chart\n",
    "- Line Chart"
   ]
  },
  {
   "cell_type": "markdown",
   "id": "838f2864-ce9e-4f15-99c8-052d053154a7",
   "metadata": {},
   "source": [
    "**Categorical & Categorical --> (Stacked Column Chart)**"
   ]
  },
  {
   "cell_type": "code",
   "execution_count": null,
   "id": "73f9f2ac-8477-49ea-9c68-4fe44d4395b6",
   "metadata": {},
   "outputs": [],
   "source": []
  },
  {
   "cell_type": "markdown",
   "id": "730e088f-fe13-40da-8fbb-686f5135fa4d",
   "metadata": {},
   "source": [
    "**Categorical & numerical --> (scatter plot, histogram, box plot)**"
   ]
  },
  {
   "cell_type": "code",
   "execution_count": null,
   "id": "3590e345-2051-4215-91ac-07d196b510ef",
   "metadata": {},
   "outputs": [],
   "source": []
  },
  {
   "cell_type": "markdown",
   "id": "20aed48d-b78e-46da-963f-e7f15e2f4dc7",
   "metadata": {},
   "source": [
    "**numerical & numerical --> (Scatter plot, line chart)**"
   ]
  },
  {
   "cell_type": "code",
   "execution_count": null,
   "id": "41023177-01cb-4f39-a750-12be71b13bda",
   "metadata": {},
   "outputs": [],
   "source": []
  },
  {
   "cell_type": "markdown",
   "id": "efb43b30-b1f0-48a4-a19c-195810cc8a0f",
   "metadata": {},
   "source": [
    "We could also use a correlation matrix to get more specific information about the relationship between these two variables."
   ]
  },
  {
   "cell_type": "code",
   "execution_count": null,
   "id": "8406f58f-b825-4a15-8f6e-c68ca66bd483",
   "metadata": {},
   "outputs": [],
   "source": []
  }
 ],
 "metadata": {
  "kernelspec": {
   "display_name": "Python 3",
   "language": "python",
   "name": "python3"
  },
  "language_info": {
   "codemirror_mode": {
    "name": "ipython",
    "version": 3
   },
   "file_extension": ".py",
   "mimetype": "text/x-python",
   "name": "python",
   "nbconvert_exporter": "python",
   "pygments_lexer": "ipython3",
   "version": "3.11.7"
  }
 },
 "nbformat": 4,
 "nbformat_minor": 5
}
